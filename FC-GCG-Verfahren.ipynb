{
 "cells": [
  {
   "cell_type": "markdown",
   "metadata": {},
   "source": [
    "## FC GCG Verfahren"
   ]
  },
  {
   "cell_type": "markdown",
   "metadata": {},
   "source": [
    "Zuerst werden die nötigen Pakete für das Verfahren importiert."
   ]
  },
  {
   "cell_type": "code",
   "execution_count": 1,
   "metadata": {},
   "outputs": [],
   "source": [
    "import numpy as np\n",
    "import matplotlib.pyplot as plt\n",
    "import cvxpy as cp"
   ]
  },
  {
   "cell_type": "markdown",
   "metadata": {},
   "source": [
    "Zunächst werden die Dimensionen der betrachteten Matrizen festgelegt, um im Anschluss alle notwenigen Werte für die\n",
    "Problemstellung zu generieren."
   ]
  },
  {
   "cell_type": "code",
   "execution_count": 2,
   "metadata": {},
   "outputs": [],
   "source": [
    "m = 23\n",
    "n = 21\n",
    "N = 19"
   ]
  },
  {
   "cell_type": "markdown",
   "metadata": {},
   "source": [
    "Für die Problemstellung selbst werden Matrizen $K_1,\\dots,K_N\\in\\mathbb{R}^{m\\times n}$ benötigt. Damit lineare Konvergenz des Verfahren gegeben ist, muss der Operator $\\mathcal{K}\\cdot=\\sum_{j=1}^NK_j\\cdot$ injektiv sein. Für den Operator bedeutet das, dass $\\sum_{j=1}^{N}K_j$ vollen Spaltenrang besitzt. Der Operator wird also wie folgt definiert:"
   ]
  },
  {
   "cell_type": "code",
   "execution_count": 3,
   "metadata": {},
   "outputs": [],
   "source": [
    "np.random.seed(43) # Festlegung eines Seeds, bei dem der Operator tatsächlich injektiv ist. \n",
    "\n",
    "K_matrices = [np.random.rand(m, n) for _ in range(N)]"
   ]
  },
  {
   "cell_type": "markdown",
   "metadata": {},
   "source": [
    "Der folgende Code stellt sicher, dass $\\mathcal{K}$ injektiv ist, d.h. dass $\\sum_{j=1}^{19}K_j$ vollen (Spalten-)Rang besitzt."
   ]
  },
  {
   "cell_type": "code",
   "execution_count": 4,
   "metadata": {},
   "outputs": [],
   "source": [
    "# Summe der Matrizen berechnen\n",
    "#K_sum = sum(K_matrices)\n",
    "\n",
    "# Überprüfen, ob die Summenmatrix K_sum injektiv ist\n",
    "#is_injective = np.linalg.matrix_rank(K_sum) == n\n",
    "\n",
    "#print(f\"Rang der Summenmatrix: {np.linalg.matrix_rank(K_sum)}\")\n",
    "#print(f\"Die Abbildung ist {'injektiv' if is_injective else 'nicht injektiv'}\")"
   ]
  },
  {
   "cell_type": "markdown",
   "metadata": {},
   "source": [
    "Dann wird noch ein Vektor $y_d\\in\\mathbb{R}^m$ benötigt, der die gemessenen Daten darstellt. Auch dieser wird aus dem oben erstellten Seed generiert."
   ]
  },
  {
   "cell_type": "code",
   "execution_count": 5,
   "metadata": {},
   "outputs": [],
   "source": [
    "np.random.seed(42)\n",
    "\n",
    "y_d = np.array(np.random.rand(m))"
   ]
  },
  {
   "cell_type": "code",
   "execution_count": 6,
   "metadata": {},
   "outputs": [],
   "source": [
    "def F(x):\n",
    "    norm = x - y_d\n",
    "    val = 1/2*cp.norm(norm, 2)**2\n",
    "    return val"
   ]
  },
  {
   "cell_type": "code",
   "execution_count": 7,
   "metadata": {},
   "outputs": [],
   "source": [
    "def nablaF(x):\n",
    "    return x-y_d"
   ]
  },
  {
   "cell_type": "markdown",
   "metadata": {},
   "source": [
    "Damit der Regularisierungsfaktor $\\alpha$ global verwendet werden kann, wird er einmalig $\\textbf{vor}$ G definiert"
   ]
  },
  {
   "cell_type": "code",
   "execution_count": 18,
   "metadata": {},
   "outputs": [],
   "source": [
    "alpha = 0.1"
   ]
  },
  {
   "cell_type": "code",
   "execution_count": 8,
   "metadata": {},
   "outputs": [],
   "source": [
    "def G(x):\n",
    "    G = 0\n",
    "    for j in range(0,N-1):\n",
    "        G += np.linalg.norm(x[:,j])\n",
    "    return alpha*G"
   ]
  },
  {
   "cell_type": "code",
   "execution_count": 9,
   "metadata": {},
   "outputs": [],
   "source": [
    "def K(x):\n",
    "    val = np.zeros(m)\n",
    "    K = K_matrices\n",
    "    for j in range(0,N-1):\n",
    "        val = val + K[j]@x[:,j]\n",
    "    return np.array(val)"
   ]
  },
  {
   "cell_type": "markdown",
   "metadata": {},
   "source": [
    "Damit die duale variable $p_k$ berechnet werden kann muss noch der duale Operator $\\mathcal{K}^*$ initialisiert werden."
   ]
  },
  {
   "cell_type": "code",
   "execution_count": 10,
   "metadata": {},
   "outputs": [],
   "source": [
    "def K_dual(x):\n",
    "    return np.column_stack([K.T@x for K in K_matrices])"
   ]
  },
  {
   "cell_type": "code",
   "execution_count": 17,
   "metadata": {},
   "outputs": [],
   "source": [
    "def FCGCG(F, DF, alpha, G, K, K_dual, maxiter, eps_abstol, eps_trace):\n",
    "    # Definiere Startwerte für die Ausführung des Algorithmus\n",
    "    N_k = 1\n",
    "    lambda_op = [0]\n",
    "    u_k = [np.zeros((n,N))]\n",
    "    \n",
    "    # Erstelle Listen, die die Werte F(Ku_k)+G(u_k) und die in jeder Iteration gewählte Spalte j_star enthalten\n",
    "    vals = []\n",
    "    # Setze Iterationszähler auf 0\n",
    "    k = 0\n",
    "    \n",
    "    while True: \n",
    "        # Berechne u und p_k\n",
    "        u = np.zeros((n,N))\n",
    "        for i in range(N_k):\n",
    "            u = u + lambda_op[i]*u_k[i]\n",
    "        p_k = -K_dual(DF(K(u)))\n",
    "        p_norms = np.array([np.linalg.norm(p_k[:,i]) for i in range(0,N)])\n",
    "        \n",
    "        traces.append(np.trace(p_k.T@u)-sum(lambda_op))\n",
    "        # Ermittle Index der maximalen Spaltennorm von p_k \n",
    "        j_star = np.argmax(p_norms)\n",
    "        js.append(j_star)\n",
    "        \n",
    "        # Berechne F(Ku_k) + G(u_k) für aktuelle die aktuelle Iterierte \n",
    "        vals.append(1/2*np.linalg.norm(K(u)-y_d)**2+G(u))\n",
    "        \n",
    "        # Berechne v_k\n",
    "        v_k = np.zeros((n,N))\n",
    "        v_k[:,j_star] = p_k[:,j_star] * 1/(alpha*np.linalg.norm(p_k[:,j_star]))\n",
    "        u_k.append(v_k)\n",
    "        \n",
    "        if np.abs(1-np.trace(p_k.T@v_k)) < eps_trace and k >= 1: # Abbruchbedingung\n",
    "            break\n",
    "        \n",
    "        # Aktualisiere die Länge von u_k in neuem vorübergehenden Parameter\n",
    "        N_k_plus = len(u_k)\n",
    "        \n",
    "        ## Ermittle mithilfe vpn cvxpy den optimalen Vektor \\lambda\\in R^{N_k_plus}\n",
    "        # Initialisierung des Problems in cvxpy-Form\n",
    "        lambda_var = cp.Variable(N_k_plus)\n",
    "        inputF = cp.sum([lambda_var[i] * K(u_k[i]) for i in range(N_k_plus)])\n",
    "        \n",
    "        # Definiere nicht-Negativität als Nebenbedingung^\n",
    "        constraint = [lambda_var >= 0]\n",
    "        objective = cp.Minimize(F(inputF) + cp.sum(lambda_var))\n",
    "        \n",
    "        # Definition und Lösung des Problems\n",
    "        problem = cp.Problem(objective, constraint)\n",
    "        problem.solve(solver = 'ECOS', abstol = eps_abstol)\n",
    "        lambda_op = []\n",
    "        # Vektor lambda als Lösung des Teilproblems für die Berechnung von u_k+1\n",
    "        lambda_op = lambda_var.value\n",
    "        \n",
    "        # Ermittlung derjenigen Einträge u_k[j], für die lambda_op[j] Werte kleiner als 10^{-12} annimmt\n",
    "        zeros = np.where(np.array(lambda_op) < 1e-8)[0]\n",
    "        \n",
    "        if len(zeros) > 0:\n",
    "            for j in sorted(zeros, reverse=True):\n",
    "                # Löschung der Einträge aus u_k und lambda_op\n",
    "                del u_k[j]\n",
    "                lambda_op = np.delete(lambda_op, j)\n",
    "        \n",
    "        k += 1\n",
    "        N_k = len(u_k)\n",
    "        \n",
    "        if k == maxiter:\n",
    "            break\n",
    "        \n",
    "    return u, vals, u_k"
   ]
  },
  {
   "cell_type": "code",
   "execution_count": 19,
   "metadata": {
    "scrolled": true
   },
   "outputs": [
    {
     "name": "stderr",
     "output_type": "stream",
     "text": [
      "C:\\Users\\Eric\\anaconda3\\lib\\site-packages\\cvxpy\\reductions\\solvers\\solving_chain.py:354: FutureWarning: \n",
      "    You specified your problem should be solved by ECOS. Starting in\n",
      "    CXVPY 1.6.0, ECOS will no longer be installed by default with CVXPY.\n",
      "    Please either add an explicit dependency on ECOS or switch to our new\n",
      "    default solver, Clarabel, by either not specifying a solver argument\n",
      "    or specifying ``solver=cp.CLARABEL``.\n",
      "    \n",
      "  warnings.warn(ECOS_DEP_DEPRECATION_MSG, FutureWarning)\n",
      "C:\\Users\\Eric\\anaconda3\\lib\\site-packages\\cvxpy\\problems\\problem.py:1407: UserWarning: Solution may be inaccurate. Try another solver, adjusting the solver settings, or solve with verbose=True for more information.\n",
      "  warnings.warn(\n"
     ]
    }
   ],
   "source": [
    "u, vals, u_k = FCGCG(F, nablaF, alpha, G, K, K_dual, 500, 1e-10, 1e-7)\n",
    "\n",
    "u_opt, vals_opt, us_opt= FCGCG(F, nablaF, alpha, G, K, K_dual, 500, 1e-18, 1e-9)"
   ]
  },
  {
   "cell_type": "code",
   "execution_count": 15,
   "metadata": {},
   "outputs": [
    {
     "name": "stdout",
     "output_type": "stream",
     "text": [
      " -7.436134152882801e-08 -2.7108436467804253e-08 244 0.09085287751524156\n",
      " -4.171929468554936e-11 -2.711868923865879e-10 326 0.09085287238082869\n"
     ]
    }
   ],
   "source": [
    "p = -K_dual(nablaF(K(u)))\n",
    "norm = np.array([np.linalg.norm(p[:,i]) for i in range(0,N)])\n",
    "jmax = np.argmax(norm)\n",
    "\n",
    "v = np.zeros((n,N))\n",
    "v[:,jmax] = p[:,jmax] * 1 / (alpha*np.linalg.norm(p[:,jmax]))\n",
    "\n",
    "p_opt = -K_dual(nablaF(K(u_opt)))\n",
    "norm_opt = np.array([np.linalg.norm(p_opt[:,i]) for i in range(0,N)])\n",
    "jmax_opt = np.argmax(norm_opt)\n",
    "\n",
    "v_opt = np.zeros((n,N))\n",
    "v_opt[:,jmax_opt] = p_opt[:,jmax_opt] * 1 / (alpha*np.linalg.norm(p_opt[:,jmax_opt]))\n",
    "\n",
    "print(f\"\", 1-np.trace(p.T@v), np.trace(p.T@u)-G(u), len(vals), vals[-1])\n",
    "print(f\"\", 1-np.trace(p_opt.T@v_opt), np.trace(p_opt.T@u_opt)-G(u_opt), len(vals_opt), min(vals_opt))"
   ]
  },
  {
   "cell_type": "code",
   "execution_count": 16,
   "metadata": {
    "scrolled": false
   },
   "outputs": [
    {
     "data": {
      "image/png": "[encoded data removed]",
      "text/plain": [
       "<Figure size 720x432 with 1 Axes>"
      ]
     },
     "metadata": {
      "needs_background": "light"
     },
     "output_type": "display_data"
    }
   ],
   "source": [
    "k = np.array([k for k in range(1,len(vals))])\n",
    "optval = vals_opt[-1]\n",
    "resids = [vals[k-1]-optval for k in k]\n",
    "resids = np.abs(resids)\n",
    "\n",
    "convk = [1/(k+1) for k in k]\n",
    "\n",
    "k95 = 0.95 ** k\n",
    "k85 = 0.85 ** k\n",
    "k75 = 0.75 ** k\n",
    "\n",
    "plt.figure(figsize=(10, 6))\n",
    "\n",
    "plt.plot(k, resids, label = \"residuals\")\n",
    "plt.plot(k, convk, label = \"$\\\\frac{1}{k+1}$\")\n",
    "plt.plot(k, k95, label = \"$0.95^k$\")\n",
    "plt.plot(k, k85, label = \"$0.85^k$\")\n",
    "plt.plot(k, k75, label = \"$0.75^k$\")\n",
    "\n",
    "plt.xlabel('Iteration')\n",
    "plt.ylabel('Objective Value')\n",
    "\n",
    "plt.yscale('log')\n",
    "plt.xscale('log')\n",
    "\n",
    "plt.title(f'Convergence of FCGCG Algorithm for $\\\\alpha = {alpha}$')\n",
    "plt.legend()\n",
    "\n",
    "plt.savefig(f\"new new final superlinear convergence alph = {alpha}.png\", dpi=200)\n",
    "\n",
    "plt.show()"
   ]
  },
  {
   "cell_type": "code",
   "execution_count": 22,
   "metadata": {},
   "outputs": [
    {
     "data": {
      "image/png": "[encoded data removed]",
      "text/plain": [
       "<Figure size 432x288 with 1 Axes>"
      ]
     },
     "metadata": {
      "needs_background": "light"
     },
     "output_type": "display_data"
    }
   ],
   "source": [
    "# Showing number of nonzero coloumns for different choices of alpha\n",
    "\n",
    "alphas = [0.1, 0.25, 0.3, 0.4, 0.5, 0.75, 1.0, 1.5, 2.5, 3.0, 4.5, 5.0, 7.5, 10.0, 20.0]\n",
    "nonzeros = []\n",
    "for alph in alphas:\n",
    "    u_alph = FCGCG(F, nablaF, alph, G, K, K_dual, 500, 1e-9, 1e-9)[0]\n",
    "    nonzero = np.where(u_alph[0] < 1e-10)[0]\n",
    "    nonzeros.append(N-len(nonzero))\n",
    "\n",
    "plt.plot(alphas, nonzeros)\n",
    "plt.xlabel(\"Values for $\\\\alpha$\")\n",
    "plt.xscale('log')\n",
    "#plt.yscale('log')\n",
    "plt.ylabel(\"Number of nonzero-coloumns\")\n",
    "plt.title(\"xlog Sparsity of solution matrices for different choices of $\\\\alpha$\")\n",
    "plt.savefig(f\"sparsity of solutions.png\", dpi=200)\n",
    "plt.show()"
   ]
  }
 ],
 "metadata": {
  "kernelspec": {
   "display_name": "Python 3",
   "language": "python",
   "name": "python3"
  },
  "language_info": {
   "codemirror_mode": {
    "name": "ipython",
    "version": 3
   },
   "file_extension": ".py",
   "mimetype": "text/x-python",
   "name": "python",
   "nbconvert_exporter": "python",
   "pygments_lexer": "ipython3",
   "version": "3.8.5"
  }
 },
 "nbformat": 4,
 "nbformat_minor": 4
}
